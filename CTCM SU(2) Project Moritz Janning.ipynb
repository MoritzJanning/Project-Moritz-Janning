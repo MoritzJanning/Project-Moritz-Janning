{
 "cells": [
  {
   "cell_type": "code",
   "execution_count": 1,
   "id": "760ba461",
   "metadata": {},
   "outputs": [],
   "source": [
    "import numpy as np\n",
    "import copy\n",
    "from numpy import linalg as LA\n",
    "import sympy\n",
    "from sympy.physics.quantum.cg import CG, cg_simp\n",
    "from sympy import S"
   ]
  },
  {
   "cell_type": "code",
   "execution_count": 24,
   "id": "0cbcd82f",
   "metadata": {},
   "outputs": [
    {
     "name": "stdout",
     "output_type": "stream",
     "text": [
      "Depiction of generated states:\n",
      " [[-0.5, -0.5, -0.5, -0.5], [0.5, -0.5, -0.5, -0.5], [-0.5, 0.5, -0.5, -0.5], [0.5, 0.5, -0.5, -0.5], [-0.5, -0.5, 0.5, -0.5], [0.5, -0.5, 0.5, -0.5], [-0.5, 0.5, 0.5, -0.5], [0.5, 0.5, 0.5, -0.5], [-0.5, -0.5, -0.5, 0.5], [0.5, -0.5, -0.5, 0.5], [-0.5, 0.5, -0.5, 0.5], [0.5, 0.5, -0.5, 0.5], [-0.5, -0.5, 0.5, 0.5], [0.5, -0.5, 0.5, 0.5], [-0.5, 0.5, 0.5, 0.5], [0.5, 0.5, 0.5, 0.5]]\n"
     ]
    }
   ],
   "source": [
    "n=4\n",
    "spin=0.5\n",
    "\n",
    "\n",
    "s=int(spin*2+1) # Multiplicity of the system\n",
    "psi=[0]*pow(s,n) # Creating array which contains all basis states\n",
    "y=[-spin]*n # Basis state with all states down\n",
    "\n",
    "for a in range(pow(s,n)):\n",
    "    x=np.base_repr(a, base=s) # Translating the number a into number system of arbitrary base s\n",
    "    x = [int(x) for x in str(x)]\n",
    "    for b in range(len(x)):\n",
    "        y[b]=x[len(x)-b-1]-spin\n",
    "    psi[a]=copy.copy(y)\n",
    "    \n",
    "print(\"Depiction of generated states:\\n\",psi)"
   ]
  },
  {
   "cell_type": "code",
   "execution_count": 25,
   "id": "e488f4e2",
   "metadata": {},
   "outputs": [
    {
     "name": "stdout",
     "output_type": "stream",
     "text": [
      "[0.5, -0.5, 0.5, -0.5]\n",
      "0.7071067811865476\n",
      "0.7071067811865476\n",
      "1.0\n",
      "-0.5773502691896257\n",
      "0.816496580927726\n",
      "0.7071067811865476\n",
      "0.7071067811865476\n",
      "0.7071067811865475\n",
      "0.7071067811865475\n",
      "0.7071067811865475\n",
      "0.7071067811865476\n"
     ]
    }
   ],
   "source": [
    "\n",
    "\n",
    "# Exemplary state\n",
    "a=5\n",
    "print(psi[a])\n",
    "\n",
    "if(b%2==0):\n",
    "    jmax=int(n*0.5+1)\n",
    "else:\n",
    "    jmax=int(n*0.5+0.5)\n",
    "\n",
    "j_rep=np.array([0]*(jmax*2)) # Counting how many reps one j has\n",
    "j_rep[0]=1 #for the first cgc they only have one rep\n",
    "j_rep[2]=1\n",
    "    \n",
    "# First spin addition:\n",
    "pos=0\n",
    "cg0=sympy.physics.quantum.cg.CG(0.5, psi[a][pos], 0.5, psi[a][pos+1], 0, psi[a][pos+1]+psi[a][pos])\n",
    "cg0=float(cg0.doit())\n",
    "\n",
    "cg1=sympy.physics.quantum.cg.CG(0.5, psi[a][pos], 0.5, psi[a][pos+1], 1, psi[a][pos+1]+psi[a][pos])\n",
    "cg1=float(cg1.doit())\n",
    "\n",
    "print(cg0)\n",
    "print(cg1)\n",
    "\n",
    "m=np.array([0.0]*(n+4))\n",
    "m[2]=psi[a][pos]+psi[a][pos+1]\n",
    "b=2\n",
    "\n",
    "\n",
    "# Loop for every spin in chain\n",
    "for b in range(2,n): # Starting with 2 spins\n",
    "    if(b%2==0):\n",
    "        jmax=int(b*0.5)\n",
    "        jmin=0\n",
    "        even=1\n",
    "        for i in range(jmax):\n",
    "            j_rep[2*i+1]=0 #reset j reps after switching to another spin\n",
    "    else:\n",
    "        jmax=int(b*0.5+0.5)\n",
    "        jmin=1\n",
    "        even=0\n",
    "        for i in range(jmax):\n",
    "            j_rep[2*i]=0 #reset j reps after switching to another spin\n",
    "            \n",
    "    m[b+1]=m[b]+psi[a][b]\n",
    "    \n",
    "    # going through every j\n",
    "    for j in range(jmin,jmax+1):\n",
    "        # j_q is the actual quantum number, jmin/max/num are more like indices\n",
    "        if(even==1):\n",
    "            j_q=j\n",
    "            j_num=int(j_q*2)\n",
    "        else:\n",
    "            j_q=j-0.5\n",
    "            j_num=int(j_q*2)\n",
    "        \n",
    "        #print(j_rep[j_num])\n",
    "        # Have to do double multiple iterations-> each j creates multiple states\n",
    "        for c in range(j_rep[j_num]):\n",
    "            if(j_q!=0):\n",
    "                cg0=sympy.physics.quantum.cg.CG(j_q, m[b], 0.5, psi[a][b], j_q-0.5, m[b+1])\n",
    "                cg0=float(cg0.doit())\n",
    "                print(cg0)\n",
    "                j_rep[j_num-1]+=1\n",
    "                #save clebsch gordan for even and odd n\n",
    "                \n",
    "        \n",
    "        for c in range(j_rep[j_num]):\n",
    "            cg1=sympy.physics.quantum.cg.CG(j_q, m[b], 0.5, psi[a][b], j_q+0.5, m[b+1])\n",
    "            cg1=float(cg1.doit())\n",
    "            print(cg1)\n",
    "            j_rep[j_num-1]+=1\n",
    "\n",
    "\n",
    "\n",
    "\n"
   ]
  },
  {
   "cell_type": "code",
   "execution_count": null,
   "id": "610c15b7",
   "metadata": {},
   "outputs": [],
   "source": []
  },
  {
   "cell_type": "code",
   "execution_count": null,
   "id": "a889a248",
   "metadata": {},
   "outputs": [],
   "source": []
  }
 ],
 "metadata": {
  "kernelspec": {
   "display_name": "Python 3 (ipykernel)",
   "language": "python",
   "name": "python3"
  },
  "language_info": {
   "codemirror_mode": {
    "name": "ipython",
    "version": 3
   },
   "file_extension": ".py",
   "mimetype": "text/x-python",
   "name": "python",
   "nbconvert_exporter": "python",
   "pygments_lexer": "ipython3",
   "version": "3.11.5"
  }
 },
 "nbformat": 4,
 "nbformat_minor": 5
}
