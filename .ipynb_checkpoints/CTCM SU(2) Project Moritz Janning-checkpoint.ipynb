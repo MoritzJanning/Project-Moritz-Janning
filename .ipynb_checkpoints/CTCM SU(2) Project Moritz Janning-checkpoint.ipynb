{
 "cells": [
  {
   "cell_type": "code",
   "execution_count": 15,
   "id": "51f1c035",
   "metadata": {},
   "outputs": [],
   "source": [
    "import numpy as np\n",
    "import copy\n",
    "from numpy import linalg as LA\n",
    "import sympy\n",
    "from sympy.physics.quantum.cg import CG, cg_simp\n",
    "from sympy import S"
   ]
  },
  {
   "cell_type": "code",
   "execution_count": 33,
   "id": "7a7296f0",
   "metadata": {},
   "outputs": [
    {
     "name": "stdout",
     "output_type": "stream",
     "text": [
      "Depiction of generated states:\n",
      " [[-0.5, -0.5, -0.5, -0.5], [0.5, -0.5, -0.5, -0.5], [-0.5, 0.5, -0.5, -0.5], [0.5, 0.5, -0.5, -0.5], [-0.5, -0.5, 0.5, -0.5], [0.5, -0.5, 0.5, -0.5], [-0.5, 0.5, 0.5, -0.5], [0.5, 0.5, 0.5, -0.5], [-0.5, -0.5, -0.5, 0.5], [0.5, -0.5, -0.5, 0.5], [-0.5, 0.5, -0.5, 0.5], [0.5, 0.5, -0.5, 0.5], [-0.5, -0.5, 0.5, 0.5], [0.5, -0.5, 0.5, 0.5], [-0.5, 0.5, 0.5, 0.5], [0.5, 0.5, 0.5, 0.5]]\n"
     ]
    }
   ],
   "source": [
    "n=4\n",
    "spin=0.5\n",
    "\n",
    "\n",
    "s=int(spin*2+1) # Multiplicity of the system\n",
    "psi=[0]*pow(s,n) # Creating array which contains all basis states\n",
    "y=[-spin]*n # Basis state with all states down\n",
    "\n",
    "for a in range(pow(s,n)):\n",
    "    x=np.base_repr(a, base=s) # Translating the number a into number system of arbitrary base s\n",
    "    x = [int(x) for x in str(x)]\n",
    "    for b in range(len(x)):\n",
    "        y[b]=x[len(x)-b-1]-spin\n",
    "    psi[a]=copy.copy(y)\n",
    "    \n",
    "print(\"Depiction of generated states:\\n\",psi)"
   ]
  },
  {
   "cell_type": "code",
   "execution_count": 36,
   "id": "30c21696",
   "metadata": {},
   "outputs": [
    {
     "name": "stdout",
     "output_type": "stream",
     "text": [
      "[0.5, -0.5, 0.5, -0.5]\n",
      "0.7071067811865476\n",
      "0.7071067811865476\n",
      "1.0\n",
      "-0.5773502691896257\n",
      "0.816496580927726\n",
      "0.7071067811865476\n",
      "0.7071067811865475\n",
      "0.7071067811865475\n",
      "0.7071067811865476\n"
     ]
    }
   ],
   "source": [
    "\n",
    "\n",
    "# Exemplary state\n",
    "a=5\n",
    "print(psi[a])\n",
    "\n",
    "    \n",
    "# First spin addition:\n",
    "pos=0\n",
    "cg0=sympy.physics.quantum.cg.CG(0.5, psi[a][pos], 0.5, psi[a][pos+1], 0, psi[a][pos+1]+psi[a][pos])\n",
    "cg0=float(cg0.doit())\n",
    "\n",
    "cg1=sympy.physics.quantum.cg.CG(0.5, psi[a][pos], 0.5, psi[a][pos+1], 1, psi[a][pos+1]+psi[a][pos])\n",
    "cg1=float(cg1.doit())\n",
    "\n",
    "print(cg0)\n",
    "print(cg1)\n",
    "\n",
    "m=np.array([0.0]*(n+1))\n",
    "m[2]=psi[a][pos]+psi[a][pos+1]\n",
    "b=2\n",
    "# Loop for every spin in chain\n",
    "for b in range(2,n): # Starting with 2 spins\n",
    "    if(b%2==0):\n",
    "        jmax=int(b*0.5)\n",
    "        jmin=0\n",
    "        even=1\n",
    "    else:\n",
    "        jmax=int(b*0.5+0.5)\n",
    "        jmin=1\n",
    "        even=0\n",
    "    m[b+1]=m[b]+psi[a][b]\n",
    "    \n",
    "    \n",
    "    for j in range(jmin,jmax+1):\n",
    "        # j_q is the actual quantum number, jmin/max/num are more like indices\n",
    "        if(even==1):\n",
    "            j_q=j\n",
    "            j_num=int(j_q*2)\n",
    "        else:\n",
    "            j_q=j-0.5\n",
    "            j_num=int(j_q*2)\n",
    "        \n",
    "        # Have to do double multiple iterations-> each j creates multiple states\n",
    "        \n",
    "        if(j_q!=0):\n",
    "            cg0=sympy.physics.quantum.cg.CG(j_q, m[b], 0.5, psi[a][b], j_q-0.5, m[b+1])\n",
    "            cg0=float(cg0.doit())\n",
    "            print(cg0)\n",
    "        \n",
    "        cg1=sympy.physics.quantum.cg.CG(j_q, m[b], 0.5, psi[a][b], j_q+0.5, m[b+1])\n",
    "        cg1=float(cg1.doit())\n",
    "        print(cg1)\n",
    "\n",
    "\n",
    "\n",
    "\n"
   ]
  },
  {
   "cell_type": "code",
   "execution_count": null,
   "id": "87fc1a75",
   "metadata": {},
   "outputs": [],
   "source": []
  }
 ],
 "metadata": {
  "kernelspec": {
   "display_name": "Python 3 (ipykernel)",
   "language": "python",
   "name": "python3"
  },
  "language_info": {
   "codemirror_mode": {
    "name": "ipython",
    "version": 3
   },
   "file_extension": ".py",
   "mimetype": "text/x-python",
   "name": "python",
   "nbconvert_exporter": "python",
   "pygments_lexer": "ipython3",
   "version": "3.11.5"
  }
 },
 "nbformat": 4,
 "nbformat_minor": 5
}
